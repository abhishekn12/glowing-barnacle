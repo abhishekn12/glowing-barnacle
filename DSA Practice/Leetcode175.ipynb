{
 "cells": [
  {
   "cell_type": "markdown",
   "metadata": {},
   "source": [
    "### Leetcode 150"
   ]
  },
  {
   "cell_type": "markdown",
   "metadata": {},
   "source": [
    "27. Remove Element\n",
    "Input: nums = [3,2,2,3], val = 3\n",
    "Output: 2, nums = [2,2,_,_]"
   ]
  },
  {
   "cell_type": "code",
   "execution_count": 2,
   "metadata": {},
   "outputs": [
    {
     "name": "stdout",
     "output_type": "stream",
     "text": [
      "2\n"
     ]
    }
   ],
   "source": [
    "nums = [3,2,2,3]\n",
    "val = 3\n",
    "index = 0\n",
    "for i in range(len(nums)):\n",
    "    if nums[i]!=val:\n",
    "        nums[index] = nums[i]\n",
    "        index += 1\n",
    "print(index)"
   ]
  },
  {
   "cell_type": "markdown",
   "metadata": {},
   "source": [
    "169. Majority Element\n",
    "Input: nums = [3,2,3]\n",
    "Output: 3"
   ]
  },
  {
   "cell_type": "code",
   "execution_count": 9,
   "metadata": {},
   "outputs": [
    {
     "name": "stdout",
     "output_type": "stream",
     "text": [
      "3\n"
     ]
    }
   ],
   "source": [
    "\n",
    "nums = [3,2,3]\n",
    "d = {}\n",
    "n = len(nums)\n",
    "n = n/2\n",
    "for i in nums:\n",
    "    if i not in d:\n",
    "        d[i] = 1\n",
    "    else:\n",
    "        d[i] += 1\n",
    "for key, value in d.items():\n",
    "    if value > len(nums)/2:\n",
    "        print(key)"
   ]
  },
  {
   "cell_type": "code",
   "execution_count": null,
   "metadata": {},
   "outputs": [
    {
     "name": "stdout",
     "output_type": "stream",
     "text": [
      "[5, 6, 7, 1, 2, 3, 4]\n"
     ]
    }
   ],
   "source": [
    "# 189 Rotate array\n",
    "nums = [1,2,3,4,5,6,7]\n",
    "k = 3\n",
    "r = []\n",
    "while k > 0:\n",
    "    nums = [nums[-1]] + nums[:-1]\n",
    "    k -= 1\n",
    "    # nums = r\n",
    "print(nums)\n",
    "\n",
    "# alt\n",
    "n = len(nums)\n",
    "k = k % n\n",
    "rotated = [0] * n\n",
    "\n",
    "for i in range(n):\n",
    "    rotated[(i + k) % n] = nums[i]\n",
    "\n",
    "for i in range(n):\n",
    "    nums[i] = rotated[i]\n"
   ]
  },
  {
   "cell_type": "code",
   "execution_count": 1,
   "metadata": {},
   "outputs": [
    {
     "name": "stdout",
     "output_type": "stream",
     "text": [
      "5\n"
     ]
    }
   ],
   "source": [
    "# 121 Best time to buy and store stock\n",
    "\n",
    "prices = [7,1,5,3,6,4]\n",
    "min_price = prices[0]\n",
    "max_profit = 0\n",
    "for i in prices[1:]:\n",
    "    max_profit = max(max_profit, i - min_price)\n",
    "    min_price = min(min_price, i)\n",
    "print(max_profit)\n"
   ]
  },
  {
   "cell_type": "code",
   "execution_count": 2,
   "metadata": {},
   "outputs": [
    {
     "name": "stdout",
     "output_type": "stream",
     "text": [
      "7\n"
     ]
    }
   ],
   "source": [
    "# 122. Best Time to Buy and Sell Stock II\n",
    "prices = [7,1,5,3,6,4]\n",
    "min_price = prices[0]\n",
    "max_profit = 0\n",
    "for i in range(1, len(prices)):\n",
    "    if prices[i] > prices[i-1]:\n",
    "        max_profit += prices[i] - prices[i-1]\n",
    "\n",
    "print(max_profit)"
   ]
  },
  {
   "cell_type": "code",
   "execution_count": 3,
   "metadata": {},
   "outputs": [
    {
     "name": "stdout",
     "output_type": "stream",
     "text": [
      "True\n",
      "True\n",
      "True\n",
      "True\n"
     ]
    }
   ],
   "source": [
    "# 55 Jump game\n",
    "nums = [2,3,1,1,4]\n",
    "farthest = 0\n",
    "for i in range(len(nums)):\n",
    "    if i > farthest:\n",
    "        print(\"False\")\n",
    "    farthest = max(farthest, i + nums[i])\n",
    "    if farthest >= len(nums) - 1:\n",
    "        print(\"True\")"
   ]
  },
  {
   "cell_type": "code",
   "execution_count": 3,
   "metadata": {},
   "outputs": [
    {
     "name": "stdout",
     "output_type": "stream",
     "text": [
      "2\n",
      "4\n",
      "4\n",
      "--  2\n"
     ]
    }
   ],
   "source": [
    "# Jump game - 2\n",
    "nums = [2,3,1,1,4]\n",
    "count = 0\n",
    "farthest = 0\n",
    "current_end = 0\n",
    "for i in range(len(nums)-1):\n",
    "    farthest = max(farthest, i+nums[i])\n",
    "    print(farthest)\n",
    "    \n",
    "    if i == current_end:\n",
    "        count += 1\n",
    "        current_end = farthest\n",
    "\n",
    "        if current_end >= len(nums) - 1:\n",
    "            break\n",
    "print(\"-- \",count)\n",
    "\n"
   ]
  },
  {
   "cell_type": "code",
   "execution_count": 22,
   "metadata": {},
   "outputs": [
    {
     "name": "stdout",
     "output_type": "stream",
     "text": [
      "[24, 12, 8, 6]\n"
     ]
    }
   ],
   "source": [
    "# Product except self\n",
    "\n",
    "nums = [1,2,3,4]\n",
    "n = len(nums)\n",
    "ans = [1]*n\n",
    "prefix = 1\n",
    "for i in range(len(nums)):\n",
    "    ans[i] = prefix\n",
    "    prefix *= nums[i]\n",
    "suffix = 1\n",
    "for i in range(len(nums)-1, -1, -1):\n",
    "    ans[i] *= suffix\n",
    "    suffix *= nums[i]\n",
    "print(ans)\n",
    "    "
   ]
  },
  {
   "cell_type": "code",
   "execution_count": 23,
   "metadata": {},
   "outputs": [
    {
     "name": "stdout",
     "output_type": "stream",
     "text": [
      "fl\n"
     ]
    }
   ],
   "source": [
    "strs = [\"flower\", \"flow\", \"flight\"]\n",
    "strs.sort()\n",
    "first, last = strs[0], strs[-1]\n",
    "i = 0\n",
    "while i<len(first) and i<len(last) and first[i] == last[i]:\n",
    "    i+=1\n",
    "print(first[:i])"
   ]
  },
  {
   "cell_type": "code",
   "execution_count": 35,
   "metadata": {},
   "outputs": [
    {
     "name": "stdout",
     "output_type": "stream",
     "text": [
      "blue is sky the\n"
     ]
    }
   ],
   "source": [
    "s = \"the sky is blue\"\n",
    "s = s.split()[::-1]\n",
    "s = \" \".join(s)\n",
    "print(s)"
   ]
  },
  {
   "cell_type": "code",
   "execution_count": 43,
   "metadata": {},
   "outputs": [
    {
     "name": "stdout",
     "output_type": "stream",
     "text": [
      "P\n",
      "A\n",
      "Y\n",
      "YP\n",
      "AA\n",
      "PL\n",
      "AAI\n",
      "YPS\n",
      "YPSH\n",
      "AAII\n",
      "PLR\n",
      "AAIII\n",
      "YPSHN\n",
      "YPSHNG\n",
      "PLRAAIIIYPSHNG\n"
     ]
    }
   ],
   "source": [
    "s = \"PAYPALISHIRING\"\n",
    "numRows = 3\n",
    "if numRows == 1 or numRows >= len(s):\n",
    "    print(s)\n",
    "rows = [\"\"] * numRows\n",
    "curr_row, step = 0,1\n",
    "for char in s:\n",
    "    rows[curr_row] += char\n",
    "    print(rows[curr_row])\n",
    "    if curr_row == 0:\n",
    "        step = 1\n",
    "    if curr_row == numRows - 1:\n",
    "        step -= 1\n",
    "    curr_row += step\n",
    "print(\"\".join(rows))"
   ]
  },
  {
   "cell_type": "code",
   "execution_count": 60,
   "metadata": {},
   "outputs": [
    {
     "name": "stdout",
     "output_type": "stream",
     "text": [
      "2\n"
     ]
    }
   ],
   "source": [
    "# 209. Minimum size subarray function\n",
    "\n",
    "nums = [2,3,1,2,4,3]\n",
    "target = 7\n",
    "left, curr_sum = 0, 0\n",
    "min_length = float('inf')\n",
    "\n",
    "for i in range(len(nums)):\n",
    "    curr_sum += nums[i]\n",
    "\n",
    "    while curr_sum >= target:\n",
    "        min_length = min(min_length, i - left + 1)\n",
    "        curr_sum -= nums[left]\n",
    "        left += 1  # Shrink window\n",
    "\n",
    "print(min_length if min_length != float('inf') else 0)"
   ]
  },
  {
   "cell_type": "code",
   "execution_count": 64,
   "metadata": {},
   "outputs": [
    {
     "name": "stdout",
     "output_type": "stream",
     "text": [
      "4\n",
      "5\n",
      "5\n",
      "6\n",
      "6\n",
      "7\n"
     ]
    }
   ],
   "source": [
    "# O(NlogN) solution\n",
    "import bisect\n",
    "\n",
    "nums = [2,3,1,2,4,3]\n",
    "target = 7\n",
    "n = len(nums)\n",
    "prefix = [0] * (n + 1)\n",
    "\n",
    "# Step 1: Compute Prefix Sum Array\n",
    "for i in range(1, n + 1):\n",
    "    prefix[i] = prefix[i - 1] + nums[i - 1]\n",
    "# [0,2,5,6,8,12,15]\n",
    "min_len = float('inf')\n",
    "for i in range(n):\n",
    "    r = prefix[i] + target\n",
    "    j = bisect.bisect_left(prefix,r)\n",
    "    print(j)\n",
    "\n"
   ]
  },
  {
   "cell_type": "code",
   "execution_count": 70,
   "metadata": {},
   "outputs": [
    {
     "name": "stdout",
     "output_type": "stream",
     "text": [
      "3\n"
     ]
    }
   ],
   "source": [
    "s = \"pwwkew\"\n",
    "left = 0\n",
    "max_len = 0\n",
    "char_set = set()\n",
    "for i in range(len(s)):\n",
    "    while s[i] in char_set:\n",
    "        char_set.remove(s[left])\n",
    "        left += 1\n",
    "    char_set.add(s[i])\n",
    "    max_len = max(max_len, i - left + 1)\n",
    "print(max_len)\n",
    "\n",
    "\n",
    "\n"
   ]
  },
  {
   "cell_type": "code",
   "execution_count": 84,
   "metadata": {},
   "outputs": [
    {
     "name": "stdout",
     "output_type": "stream",
     "text": [
      "10001\n"
     ]
    }
   ],
   "source": [
    "nums = [10000,1,10000,1,1,1,1,1,1]\n",
    "left, curr_sum = 0,0\n",
    "int_set = set()\n",
    "max_sum = 0\n",
    "for i in range(len(nums)):\n",
    "    while nums[i] in int_set:\n",
    "        int_set.remove(nums[left])\n",
    "        left += 1\n",
    "    int_set.add(nums[i])\n",
    "    # print(int_set)\n",
    "    max_sum = max(max_sum, sum(int_set))\n",
    "print(max_sum)\n",
    "# print(sum(int_set))"
   ]
  },
  {
   "cell_type": "code",
   "execution_count": null,
   "metadata": {},
   "outputs": [],
   "source": []
  }
 ],
 "metadata": {
  "kernelspec": {
   "display_name": "Python 3",
   "language": "python",
   "name": "python3"
  },
  "language_info": {
   "codemirror_mode": {
    "name": "ipython",
    "version": 3
   },
   "file_extension": ".py",
   "mimetype": "text/x-python",
   "name": "python",
   "nbconvert_exporter": "python",
   "pygments_lexer": "ipython3",
   "version": "3.13.2"
  }
 },
 "nbformat": 4,
 "nbformat_minor": 2
}
