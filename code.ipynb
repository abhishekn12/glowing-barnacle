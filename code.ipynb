{
 "cells": [
  {
   "cell_type": "markdown",
   "metadata": {},
   "source": [
    "2574. Left and Right Sum Differences\n",
    "Input: nums = [10,4,8,3]\n",
    "Output: [15,1,11,22]\n"
   ]
  },
  {
   "cell_type": "code",
   "execution_count": null,
   "metadata": {},
   "outputs": [],
   "source": []
  },
  {
   "cell_type": "code",
   "execution_count": 93,
   "metadata": {},
   "outputs": [
    {
     "name": "stdout",
     "output_type": "stream",
     "text": [
      "[15, 1, 11, 22]\n"
     ]
    }
   ],
   "source": [
    "nums = [10,4,8,3]\n",
    "ans = []\n",
    "prefix = 0\n",
    "suffix = sum(nums)\n",
    "\n",
    "for i in nums:\n",
    "    prefix += i\n",
    "    ans.append(abs(prefix-suffix))\n",
    "    suffix-=i\n",
    "\n",
    "print(ans)\n"
   ]
  },
  {
   "cell_type": "markdown",
   "metadata": {},
   "source": [
    "**----------------Two Pointer-------------------**\n",
    "2465. Number of Distinct Averages\n",
    "nums = [4,1,4,0,3,5]"
   ]
  },
  {
   "cell_type": "code",
   "execution_count": 94,
   "metadata": {},
   "outputs": [
    {
     "name": "stdout",
     "output_type": "stream",
     "text": [
      "[0.5]\n"
     ]
    }
   ],
   "source": [
    "nums = [4,1,4,0,3,5]\n",
    "while(len(nums) > 0):\n",
    "    l = 0\n",
    "    new_arr = []\n",
    "    r = len(nums) - 1\n",
    "    min_val = nums[l]\n",
    "    max_val = nums[r]\n",
    "    while l <= r:\n",
    "        min_val = min(min_val, nums[l], nums[r])\n",
    "        max_val = max(max_val, nums[l], nums[r])\n",
    "        l += 1\n",
    "        r -= 1\n",
    "    avg = (max_val-min_val)/2\n",
    "    new_arr.append(avg)\n",
    "    nums.remove(min_val)\n",
    "    nums.remove(max_val)\n",
    "nums\n",
    "print(new_arr)\n",
    "\n",
    "\n"
   ]
  },
  {
   "cell_type": "markdown",
   "metadata": {},
   "source": [
    "2562. Find the Array Concatenation Value\n",
    "\n",
    "Input: nums = [7,52,2,4]\n",
    "Output: 596\n",
    "Explanation: Before performing any operation, nums is [7,52,2,4] and concatenation value is 0.\n",
    " - In the first operation:\n",
    "We pick the first element, 7, and the last element, 4.\n",
    "Their concatenation is 74, and we add it to the concatenation value, so it becomes equal to 74.\n",
    "Then we delete them from nums, so nums becomes equal to [52,2].\n",
    " - In the second operation:\n",
    "We pick the first element, 52, and the last element, 2.\n",
    "Their concatenation is 522, and we add it to the concatenation value, so it becomes equal to 596.\n",
    "Then we delete them from the nums, so nums becomes empty.\n",
    "Since the concatenation value is 596 so the answer is 596."
   ]
  },
  {
   "cell_type": "code",
   "execution_count": 95,
   "metadata": {},
   "outputs": [
    {
     "data": {
      "text/plain": [
       "673"
      ]
     },
     "execution_count": 95,
     "metadata": {},
     "output_type": "execute_result"
    }
   ],
   "source": [
    "nums = [5,14,13,8,12]\n",
    "n = len(nums)\n",
    "ans = nums[n//2] if n%2 else 0\n",
    "for i in range(n//2):\n",
    "    ans += int(str(nums[i]) + str(nums[-i-1]))\n",
    "ans\n",
    "ans"
   ]
  },
  {
   "cell_type": "markdown",
   "metadata": {},
   "source": [
    "557. Reverse Words in a String III\n",
    "Example 1:\n",
    "\n",
    "Input: s = \"Let's take LeetCode contest\"\n",
    "Output: \"s'teL ekat edoCteeL tsetnoc\"\n",
    "Example 2:\n",
    "\n",
    "Input: s = \"Mr Ding\"\n",
    "Output: \"rM gniD\""
   ]
  },
  {
   "cell_type": "code",
   "execution_count": 96,
   "metadata": {},
   "outputs": [
    {
     "name": "stdout",
     "output_type": "stream",
     "text": [
      "s'teL ekat edoCteeL tsetnoc\n"
     ]
    }
   ],
   "source": [
    "s = \"Let's take LeetCode contest\"\n",
    "s = s.split(\" \")\n",
    "s1 = \" \"\n",
    "s_reversed = [word[::-1] for word in s]\n",
    "result = s1.join(s_reversed)\n",
    "print(result)\n"
   ]
  },
  {
   "cell_type": "markdown",
   "metadata": {},
   "source": [
    "541. Reverse String II\n",
    "Input: s = \"abcdefg\", k = 2\n",
    "Output: \"bacdfeg\""
   ]
  },
  {
   "cell_type": "code",
   "execution_count": 97,
   "metadata": {},
   "outputs": [
    {
     "ename": "NameError",
     "evalue": "name 'k' is not defined",
     "output_type": "error",
     "traceback": [
      "\u001b[1;31m---------------------------------------------------------------------------\u001b[0m",
      "\u001b[1;31mNameError\u001b[0m                                 Traceback (most recent call last)",
      "Cell \u001b[1;32mIn[97], line 3\u001b[0m\n\u001b[0;32m      1\u001b[0m s \u001b[38;5;241m=\u001b[39m \u001b[38;5;124m\"\u001b[39m\u001b[38;5;124mabcdefgh\u001b[39m\u001b[38;5;124m\"\u001b[39m\n\u001b[0;32m      2\u001b[0m s \u001b[38;5;241m=\u001b[39m \u001b[38;5;28mlist\u001b[39m(s)\n\u001b[1;32m----> 3\u001b[0m \u001b[38;5;28;01mfor\u001b[39;00m i \u001b[38;5;129;01min\u001b[39;00m \u001b[38;5;28mrange\u001b[39m(\u001b[38;5;241m0\u001b[39m,\u001b[38;5;28mlen\u001b[39m(s),\u001b[38;5;241m2\u001b[39m\u001b[38;5;241m*\u001b[39m\u001b[43mk\u001b[49m):\n\u001b[0;32m      4\u001b[0m     s[i:i\u001b[38;5;241m+\u001b[39mk] \u001b[38;5;241m=\u001b[39m \u001b[38;5;28mreversed\u001b[39m(s[i:i\u001b[38;5;241m+\u001b[39mk])\n\u001b[0;32m      5\u001b[0m \u001b[38;5;28mprint\u001b[39m(\u001b[38;5;124m\"\u001b[39m\u001b[38;5;124m\"\u001b[39m\u001b[38;5;241m.\u001b[39mjoin(s))\n",
      "\u001b[1;31mNameError\u001b[0m: name 'k' is not defined"
     ]
    }
   ],
   "source": [
    "s = \"abcdefgh\"\n",
    "s = list(s)\n",
    "for i in range(0,len(s),2*k):\n",
    "    s[i:i+k] = reversed(s[i:i+k])\n",
    "print(\"\".join(s))"
   ]
  },
  {
   "cell_type": "markdown",
   "metadata": {},
   "source": [
    "3162. Find the Number of Good Pairs I\n",
    "You are given 2 integer arrays nums1 and nums2 of lengths n and m respectively. You are also given a positive integer k.\n",
    "\n",
    "A pair (i, j) is called good if nums1[i] is divisible by nums2[j] * k (0 <= i <= n - 1, 0 <= j <= m - 1).\n",
    "\n",
    "Return the total number of good pairs.\n",
    " nums1 = [1,3,4], nums2 = [1,3,4], k = 1\n"
   ]
  },
  {
   "cell_type": "markdown",
   "metadata": {},
   "source": [
    "1961. Check If String Is a Prefix of Array\n",
    "\n",
    "Input: s = \"iloveleetcode\", words = [\"i\",\"love\",\"leetcode\",\"apples\"]\n",
    "Output: true\n",
    "Explanation:\n",
    "s can be made by concatenating \"i\", \"love\", and \"leetcode\" together."
   ]
  },
  {
   "cell_type": "code",
   "execution_count": null,
   "metadata": {},
   "outputs": [
    {
     "name": "stdout",
     "output_type": "stream",
     "text": [
      "yes\n"
     ]
    },
    {
     "data": {
      "text/plain": [
       "'iloveleetcodeapples'"
      ]
     },
     "execution_count": 35,
     "metadata": {},
     "output_type": "execute_result"
    }
   ],
   "source": [
    "words = [\"i\",\"love\",\"leetcode\",\"apples\"]\n",
    "s = \"iloveleetcode\"\n",
    "ans = \"\"\n",
    "for i in words:\n",
    "    ans += i\n",
    "    if ans == s:\n",
    "        print(\"yes\")\n",
    "ans\n",
    "\n"
   ]
  },
  {
   "cell_type": "markdown",
   "metadata": {},
   "source": [
    "2540. Minimum Common Value\n",
    "\n",
    "Input: nums1 = [1,2,3], nums2 = [2,4]\n",
    "Output: 2\n",
    "Explanation: The smallest element common to both arrays is 2, so we return 2."
   ]
  },
  {
   "cell_type": "code",
   "execution_count": null,
   "metadata": {},
   "outputs": [
    {
     "name": "stdout",
     "output_type": "stream",
     "text": [
      "defaultdict(<class 'int'>, {})\n",
      "2\n",
      "3\n"
     ]
    },
    {
     "data": {
      "text/plain": [
       "defaultdict(int, {1: 1, 2: 1, 3: 1, 6: 1, 4: 0, 5: 0})"
      ]
     },
     "execution_count": 57,
     "metadata": {},
     "output_type": "execute_result"
    }
   ],
   "source": [
    "from collections import defaultdict\n",
    "\n",
    "\n",
    "nums1 = [1,2,3,6]\n",
    "nums2 = [2,3,4,5]\n",
    "common = []\n",
    "mp=defaultdict(int)\n",
    "print(mp)\n",
    "for i in nums1:\n",
    "    mp[i] = 1\n",
    "for i in nums2:\n",
    "    if mp[i] == 1:\n",
    "        print(i)\n",
    "mp\n",
    "\n"
   ]
  },
  {
   "cell_type": "markdown",
   "metadata": {},
   "source": [
    "2108. Find First Palindromic String in the Array\n",
    "\n",
    "Input: words = [\"abc\",\"car\",\"ada\",\"racecar\",\"cool\"]\n",
    "Output: \"ada\""
   ]
  },
  {
   "cell_type": "code",
   "execution_count": null,
   "metadata": {},
   "outputs": [
    {
     "name": "stdout",
     "output_type": "stream",
     "text": [
      "--\n",
      "--\n",
      "ada\n"
     ]
    }
   ],
   "source": [
    "words = [\"abc\",\"car\",\"ada\",\"racecar\",\"cool\"]\n",
    "for i in words:\n",
    "    if i == i[::-1]:\n",
    "        print(i)\n",
    "        break\n",
    "    else:\n",
    "        print(\"--\")"
   ]
  },
  {
   "cell_type": "code",
   "execution_count": null,
   "metadata": {},
   "outputs": [
    {
     "data": {
      "text/plain": [
       "[-4, -1, 0, 3, 10]"
      ]
     },
     "execution_count": 79,
     "metadata": {},
     "output_type": "execute_result"
    }
   ],
   "source": [
    "nums = [-4,-1,0,3,10]\n",
    "for i in nums:\n",
    "    i = pow(i,2)\n",
    "nums"
   ]
  },
  {
   "cell_type": "markdown",
   "metadata": {},
   "source": [
    "2460. Apply Operations to an Array\n",
    "You are given a 0-indexed array nums of size n consisting of non-negative integers.\n",
    "\n",
    "You need to apply n - 1 operations to this array where, in the ith operation (0-indexed), you will apply the following on the ith element of nums:\n",
    "\n",
    "If nums[i] == nums[i + 1], then multiply nums[i] by 2 and set nums[i + 1] to 0. Otherwise, you skip this operation.\n",
    "After performing all the operations, shift all the 0's to the end of the array.\n",
    "\n",
    "For example, the array [1,0,2,0,0,1] after shifting all its 0's to the end, is [1,2,1,0,0,0].\n",
    "Return the resulting array.\n",
    "\n",
    "Note that the operations are applied sequentially, not all at once."
   ]
  },
  {
   "cell_type": "code",
   "execution_count": null,
   "metadata": {},
   "outputs": [
    {
     "name": "stdout",
     "output_type": "stream",
     "text": [
      "[1, 4, 0, 2, 0, 0]\n"
     ]
    },
    {
     "data": {
      "text/plain": [
       "[1, 4, 2, 0, 0, 0]"
      ]
     },
     "execution_count": 84,
     "metadata": {},
     "output_type": "execute_result"
    }
   ],
   "source": [
    "nums = [1,2,2,1,1,0]\n",
    "for i in range(len(nums)-1):\n",
    "    if nums[i] == nums[i+1]:\n",
    "        nums[i] = nums[i]*2\n",
    "        nums[i+1] = 0\n",
    "        i+=1\n",
    "print(nums)\n",
    "index = 0\n",
    "for i in range(len(nums)):\n",
    "    if nums[i]!=0:\n",
    "        nums[i], nums[index] = nums[index],nums[i]\n",
    "        index += 1\n",
    "nums"
   ]
  },
  {
   "cell_type": "markdown",
   "metadata": {},
   "source": [
    "2824. Count Pairs Whose Sum is Less than Target\n",
    "Input: nums = [-1,1,2,3,1], target = 2\n",
    "Output: 3\n",
    "Explanation: There are 3 pairs of indices that satisfy the conditions in the statement:\n",
    "- (0, 1) since 0 < 1 and nums[0] + nums[1] = 0 < target\n",
    "- (0, 2) since 0 < 2 and nums[0] + nums[2] = 1 < target \n",
    "- (0, 4) since 0 < 4 and nums[0] + nums[4] = 0 < target\n",
    "Note that (0, 3) is not counted since nums[0] + nums[3] is not strictly less than the target."
   ]
  },
  {
   "cell_type": "code",
   "execution_count": null,
   "metadata": {},
   "outputs": [
    {
     "name": "stdout",
     "output_type": "stream",
     "text": [
      "10\n"
     ]
    }
   ],
   "source": [
    "nums = [-6,2,5,-2,-7,-1,3]\n",
    "target = -2\n",
    "nums.sort()\n",
    "left, right = 0, len(nums) - 1\n",
    "count = 0\n",
    "\n",
    "while left < right:\n",
    "    if nums[left] + nums[right] < target:\n",
    "        count += (right - left)\n",
    "        left += 1\n",
    "    else:\n",
    "        right -= 1\n",
    "print(count)\n",
    "\n"
   ]
  },
  {
   "cell_type": "markdown",
   "metadata": {},
   "source": [
    "832. Flipping an Image\n",
    "image = [[1,1,0],[1,0,1],[0,0,0]]"
   ]
  },
  {
   "cell_type": "code",
   "execution_count": null,
   "metadata": {},
   "outputs": [
    {
     "name": "stdout",
     "output_type": "stream",
     "text": [
      "[[1, 1, 0], [1, 0, 1], [0, 0, 0]]\n"
     ]
    }
   ],
   "source": [
    "image = [[1,1,0],[1,0,1],[0,0,0]]\n",
    "for i in image:\n",
    "    i = i[::-1]\n",
    "    # for j in i:\n",
    "    #     if j == 0:\n",
    "    #         j = 1\n",
    "    #     else:\n",
    "    #         j = 0\n",
    "print(image)\n"
   ]
  },
  {
   "cell_type": "markdown",
   "metadata": {},
   "source": [
    "1748. Sum of Unique Elements\n",
    "\n",
    "You are given an integer array nums. The unique elements of an array are the elements that appear exactly once in the array.\n",
    "\n",
    "Return the sum of all the unique elements of nums.\n",
    "\n",
    "Input: nums = [1,2,3,2]\n",
    "Output: 4\n",
    "Explanation: The unique elements are [1,3], and the sum is 4"
   ]
  },
  {
   "cell_type": "code",
   "execution_count": null,
   "metadata": {},
   "outputs": [
    {
     "name": "stdout",
     "output_type": "stream",
     "text": [
      "4\n"
     ]
    }
   ],
   "source": [
    "nums = [1,2,3,2,2]\n",
    "d = {}\n",
    "for i in nums:\n",
    "    d[i] = d.get(i,0) + 1\n",
    "\n",
    "print(sum(k for k,v in d.items() if v==1))"
   ]
  },
  {
   "cell_type": "markdown",
   "metadata": {},
   "source": [
    "1356. Sort Integers by The Number of 1 Bits\n",
    "Input: arr = [0,1,2,3,4,5,6,7,8]\n",
    "Output: [0,1,2,4,8,3,5,6,7]\n",
    "Explantion: [0] is the only integer with 0 bits.\n",
    "[1,2,4,8] all have 1 bit.\n",
    "[3,5,6] have 2 bits.\n",
    "[7] has 3 bits.\n",
    "The sorted array by bits is [0,1,2,4,8,3,5,6,7]"
   ]
  },
  {
   "cell_type": "code",
   "execution_count": null,
   "metadata": {},
   "outputs": [
    {
     "data": {
      "text/plain": [
       "[0, 1, 2, 4, 8, 3, 5, 6, 7]"
      ]
     },
     "execution_count": 120,
     "metadata": {},
     "output_type": "execute_result"
    }
   ],
   "source": [
    "arr = [0,1,2,3,4,5,6,7,8]\n",
    "n = 4\n",
    "sorted(arr, key=lambda k: (bin(k).count('1'), k))\n"
   ]
  },
  {
   "cell_type": "code",
   "execution_count": null,
   "metadata": {},
   "outputs": [
    {
     "name": "stdout",
     "output_type": "stream",
     "text": [
      "[(4, 1), (2, 2), (1, 3)]\n"
     ]
    }
   ],
   "source": [
    "data = [(1, 3), (4, 1), (2, 2)]\n",
    "data_sorted = sorted(data, key=lambda x: x[1])\n",
    "print(data_sorted)"
   ]
  },
  {
   "cell_type": "code",
   "execution_count": null,
   "metadata": {},
   "outputs": [
    {
     "data": {
      "text/plain": [
       "[1, 2, 3, 4]"
      ]
     },
     "execution_count": 126,
     "metadata": {},
     "output_type": "execute_result"
    }
   ],
   "source": [
    "nums = [1,2,3,4]\n",
    "sq = list(map(lambda x:x**2, nums))\n",
    "sq"
   ]
  },
  {
   "cell_type": "code",
   "execution_count": null,
   "metadata": {},
   "outputs": [
    {
     "data": {
      "text/plain": [
       "[2, 4, 6]"
      ]
     },
     "execution_count": 127,
     "metadata": {},
     "output_type": "execute_result"
    }
   ],
   "source": [
    "nums = [1,2,3,4,5,6]\n",
    "ev = list(filter(lambda x: x%2 == 0, nums))\n",
    "ev"
   ]
  },
  {
   "cell_type": "markdown",
   "metadata": {},
   "source": [
    "1089. Duplicate Zeros\n",
    "\n",
    "arr = [1,0,2,3,0,4,5,0]"
   ]
  },
  {
   "cell_type": "code",
   "execution_count": null,
   "metadata": {},
   "outputs": [
    {
     "name": "stdout",
     "output_type": "stream",
     "text": [
      "1\n"
     ]
    }
   ],
   "source": [
    "import heapq\n",
    "stones  = [1,0,2,3,0,4,5,0]\n",
    "while len(stones) > 1:\n",
    "    stones.sort()  # O(N log N)\n",
    "    first, second = stones.pop(), stones.pop()\n",
    "    if first != second:\n",
    "        stones.append(first - second)\n",
    "print(stones[0] if stones else 0)"
   ]
  },
  {
   "cell_type": "code",
   "execution_count": null,
   "metadata": {},
   "outputs": [
    {
     "name": "stdout",
     "output_type": "stream",
     "text": [
      "[2, 4, 6, 8]\n"
     ]
    }
   ],
   "source": [
    "# map and filter in python\n",
    "# map function in python\n",
    "# map(function, iterable)\n",
    "def addition(n):\n",
    "    return n + n\n",
    "numbers = (1, 2, 3, 4)\n",
    "result = map(addition, numbers) # Output: [2, 4, 6, 8]\n",
    "print(list(result))\n"
   ]
  },
  {
   "cell_type": "code",
   "execution_count": null,
   "metadata": {},
   "outputs": [],
   "source": [
    "import pandas as pd"
   ]
  },
  {
   "cell_type": "markdown",
   "metadata": {},
   "source": [
    "Container With Most Water\n",
    "height = [1,8,6,2,5,4,8,3,7]\n",
    "Output: 49"
   ]
  },
  {
   "cell_type": "code",
   "execution_count": null,
   "metadata": {},
   "outputs": [
    {
     "data": {
      "text/plain": [
       "49"
      ]
     },
     "execution_count": 11,
     "metadata": {},
     "output_type": "execute_result"
    }
   ],
   "source": [
    "height = [1,8,6,2,5,4,8,3,7]\n",
    "max_area = 0\n",
    "left = 0\n",
    "right = len(height) - 1\n",
    "while left < right:\n",
    "    max_area = max(max_area, min(height[left], height[right]) * (right - left))\n",
    "    if height[left] < height[right]:\n",
    "            left += 1\n",
    "    else:\n",
    "        right -= 1\n",
    "max_area"
   ]
  },
  {
   "cell_type": "markdown",
   "metadata": {},
   "source": [
    "3Sum Closest\n",
    "Given an integer array nums of length n and an integer target, find three integers in nums such that the sum is closest to target.\n",
    "\n",
    "Return the sum of the three integers."
   ]
  },
  {
   "cell_type": "code",
   "execution_count": null,
   "metadata": {},
   "outputs": [
    {
     "data": {
      "text/plain": [
       "2"
      ]
     },
     "execution_count": 12,
     "metadata": {},
     "output_type": "execute_result"
    }
   ],
   "source": [
    "nums = [-1,2,1,-4]\n",
    "target = 1\n",
    "\n",
    "nums.sort()\n",
    "closest_sum = float('inf')\n",
    "closest_sum_diff = float('inf')\n",
    "for i in range(len(nums)-2):\n",
    "    left = i + 1\n",
    "    right = len(nums) - 1\n",
    "    while left < right:\n",
    "        current_sum = nums[i] + nums[left] + nums[right]\n",
    "        current_diff = abs(current_sum - target)\n",
    "        if current_diff < closest_sum_diff:\n",
    "            closest_sum_diff = current_diff\n",
    "            closest_sum = current_sum\n",
    "        if current_sum < target:\n",
    "            left += 1\n",
    "        else:\n",
    "            right -= 1\n",
    "closest_sum\n"
   ]
  },
  {
   "cell_type": "code",
   "execution_count": null,
   "metadata": {},
   "outputs": [],
   "source": [
    "# 4sum problem\n",
    "nums = [1,0,-1,0,-2,2]\n",
    "target = 0\n",
    "nums.sort()\n",
    "result = []\n",
    "n = len(nums)\n",
    "for i in range(n-3):\n",
    "    if i > 0 and nums[i] == nums[i-1]:\n",
    "        continue\n",
    "    for j in range(i+1, n-2):\n",
    "        if j > 1 and nums[j] == nums[j-1]:\n",
    "            continue\n",
    "        left,right = j+1, n-1\n",
    "        while left < right:\n",
    "\n"
   ]
  },
  {
   "cell_type": "code",
   "execution_count": null,
   "metadata": {},
   "outputs": [
    {
     "name": "stdout",
     "output_type": "stream",
     "text": [
      "[1, 2, 3]\n"
     ]
    }
   ],
   "source": [
    "from itertools import permutations\n",
    "nums = [3,2,1]\n",
    "\n",
    "nums1 = sorted(nums)\n",
    "perm = permutations(nums1)\n",
    "perm = list(perm)\n",
    "if nums == list(perm[-1]):\n",
    "    print(list(perm[0]))\n",
    "else:\n",
    "    for i in range(0, len(perm)):\n",
    "        if list(perm[i]) == nums:\n",
    "            print(list(perm[i+1]))\n",
    "            break\n",
    "\n"
   ]
  },
  {
   "cell_type": "markdown",
   "metadata": {},
   "source": [
    "Find First and Last Position of Element in Sorted Array\n",
    "nums = [5,7,7,8,8,10], target = 8\n",
    "Output: [3,4]\n"
   ]
  },
  {
   "cell_type": "code",
   "execution_count": null,
   "metadata": {},
   "outputs": [
    {
     "data": {
      "text/plain": [
       "3"
      ]
     },
     "execution_count": 109,
     "metadata": {},
     "output_type": "execute_result"
    }
   ],
   "source": [
    "nums = [5,7,7,8,8,10]\n",
    "target = 8\n",
    "left = 0\n",
    "right = len(nums) - 1\n",
    "while left < right:\n",
    "\n",
    "\n"
   ]
  },
  {
   "cell_type": "code",
   "execution_count": null,
   "metadata": {},
   "outputs": [
    {
     "name": "stdout",
     "output_type": "stream",
     "text": [
      "-1\n",
      "-1\n",
      "-1\n",
      "-1\n",
      "4\n",
      "-1\n",
      "-1\n"
     ]
    }
   ],
   "source": [
    "nums = [4,5,6,7,0,1,2]\n",
    "target = 0\n",
    "for i in range(len(nums)):\n",
    "    if nums[i] == target:\n",
    "        print(i)\n",
    "    else:\n",
    "        print(-1)"
   ]
  },
  {
   "cell_type": "code",
   "execution_count": null,
   "metadata": {},
   "outputs": [
    {
     "name": "stdout",
     "output_type": "stream",
     "text": [
      "[(1, 2, 3), (1, 3, 2), (2, 1, 3), (2, 3, 1), (3, 1, 2), (3, 2, 1)]\n"
     ]
    }
   ],
   "source": [
    "nums = [1,2,3]\n"
   ]
  },
  {
   "cell_type": "code",
   "execution_count": null,
   "metadata": {},
   "outputs": [
    {
     "data": {
      "text/plain": [
       "7"
      ]
     },
     "execution_count": 114,
     "metadata": {},
     "output_type": "execute_result"
    }
   ],
   "source": [
    "prices = [7,1,5,3,6,4]\n",
    "profit = 0\n",
    "for i in range(1, len(prices)):\n",
    "    if prices[i] > prices[i-1]:\n",
    "        profit += prices[i] - prices[i-1]\n",
    "profit"
   ]
  },
  {
   "cell_type": "code",
   "execution_count": null,
   "metadata": {},
   "outputs": [
    {
     "name": "stdout",
     "output_type": "stream",
     "text": [
      "3\n",
      "2 2\n",
      "4\n",
      "4 5\n",
      "5\n",
      "7 1\n"
     ]
    },
    {
     "data": {
      "text/plain": [
       "13"
      ]
     },
     "execution_count": 119,
     "metadata": {},
     "output_type": "execute_result"
    }
   ],
   "source": [
    "def maxSumSubarray(arr, k):\n",
    "    max_sum, window_sum = 0, sum(arr[:k])  # Initialize with first window sum\n",
    "\n",
    "    for i in range(k, len(arr)):\n",
    "        # print(k)\n",
    "        print(i)\n",
    "        print(arr[i], arr[i-k])\n",
    "        window_sum += arr[i] - arr[i - k]  # Slide window by removing left and adding right\n",
    "        max_sum = max(max_sum, window_sum)\n",
    "\n",
    "    return max_sum\n",
    "\n",
    "arr = [2,5,1,2,4,7]\n",
    "maxSumSubarray(arr, 3)"
   ]
  },
  {
   "cell_type": "code",
   "execution_count": null,
   "metadata": {},
   "outputs": [
    {
     "name": "stdout",
     "output_type": "stream",
     "text": [
      "2 4\n",
      "5 12\n",
      "4 11\n",
      "12 14\n",
      "16 16\n"
     ]
    }
   ],
   "source": [
    "# 1991. Find the Middle Index in Array\n",
    "nums = [2,3,-1,8,4]\n",
    "left_sum = 0\n",
    "right_sum = sum(nums)\n",
    "for i in range(len(nums)):\n",
    "    right_sum -= nums[i]\n",
    "    if left_sum == right_sum:\n",
    "        print(i)\n",
    "    left_sum += nums[i]\n",
    "print(-1)"
   ]
  },
  {
   "cell_type": "code",
   "execution_count": null,
   "metadata": {},
   "outputs": [
    {
     "name": "stdout",
     "output_type": "stream",
     "text": [
      "1\n",
      "inf 1\n",
      "2\n",
      "1 2\n",
      "1\n"
     ]
    }
   ],
   "source": [
    "def minimum_positive_sum_subarray(nums, l, r):\n",
    "    n = len(nums)\n",
    "    min_positive_sum = float('inf')\n",
    "\n",
    "    for window_size in range(l, r + 1):\n",
    "        window_sum = sum(nums[:window_size])\n",
    "        print(window_sum)\n",
    "\n",
    "        if window_sum > 0:\n",
    "            print(min_positive_sum, window_sum)\n",
    "            min_positive_sum = min(min_positive_sum, window_sum)\n",
    "\n",
    "        for i in range(window_size, n):\n",
    "            window_sum += nums[i] - nums[i - window_size]\n",
    "            if window_sum > 0:\n",
    "                min_positive_sum = min(min_positive_sum, window_sum)\n",
    "\n",
    "    return min_positive_sum if min_positive_sum != float('inf') else -1\n",
    "\n",
    "# Example usage:\n",
    "nums = [3, -2, 1, 4]\n",
    "l, r = 2, 3\n",
    "print(minimum_positive_sum_subarray(nums, l, r))  # Output: 1\n"
   ]
  },
  {
   "cell_type": "code",
   "execution_count": null,
   "metadata": {},
   "outputs": [
    {
     "data": {
      "text/plain": [
       "[1, 3, 6, 10]"
      ]
     },
     "execution_count": 168,
     "metadata": {},
     "output_type": "execute_result"
    }
   ],
   "source": [
    "nums = [1,2,3,4]\n",
    "for i in range(1,len(nums)):\n",
    "    nums[i] += nums[i-1]\n",
    "nums"
   ]
  },
  {
   "cell_type": "code",
   "execution_count": null,
   "metadata": {},
   "outputs": [
    {
     "name": "stdout",
     "output_type": "stream",
     "text": [
      "3\n"
     ]
    }
   ],
   "source": [
    "nums = [2,4,6,8]\n",
    "l = 0\n",
    "r = 0\n",
    "c = 0\n",
    "for i in range(1,len(nums)):\n",
    "    l = sum(nums[:i])\n",
    "    r = sum(nums[i:])\n",
    "    if (abs(l-r))%2 ==0:\n",
    "        c+=1\n",
    "print(c)"
   ]
  },
  {
   "cell_type": "code",
   "execution_count": null,
   "metadata": {},
   "outputs": [
    {
     "name": "stdout",
     "output_type": "stream",
     "text": [
      "Hello World\n"
     ]
    }
   ],
   "source": [
    "print(\"Hello World\")"
   ]
  },
  {
   "cell_type": "code",
   "execution_count": null,
   "metadata": {},
   "outputs": [
    {
     "name": "stdout",
     "output_type": "stream",
     "text": [
      "3\n",
      "[2, 2, 3]\n"
     ]
    }
   ],
   "source": [
    "n = [2,3,3,2]\n",
    "val = 3\n",
    "for i in n:\n",
    "    if i == val:\n",
    "        print(i)\n",
    "        n.remove(i)\n",
    "\n",
    "n.sort()\n",
    "print(n)\n"
   ]
  },
  {
   "cell_type": "code",
   "execution_count": null,
   "metadata": {},
   "outputs": [
    {
     "name": "stdout",
     "output_type": "stream",
     "text": [
      "false\n",
      "false\n",
      "false\n",
      "true\n"
     ]
    }
   ],
   "source": [
    "nums = [2,14,18,22,22]\n",
    "\n",
    "d = {}\n",
    "for i in nums:\n",
    "    if i in d:\n",
    "        d[i] +=1\n",
    "    else:\n",
    "        d[i] = 1\n",
    "for key, values in d.items():\n",
    "    if values >= 2:\n",
    "        print(\"true\")\n",
    "    else:\n",
    "        print(\"false\")"
   ]
  },
  {
   "cell_type": "code",
   "execution_count": null,
   "metadata": {},
   "outputs": [
    {
     "name": "stdout",
     "output_type": "stream",
     "text": [
      "8\n"
     ]
    }
   ],
   "source": [
    "nums = [9,6,4,2,3,5,7,0,1]\n",
    "n = len(nums)\n",
    "sum_n = n*(n+1)//2\n",
    "print(sum_n - sum(nums))"
   ]
  },
  {
   "cell_type": "code",
   "execution_count": null,
   "metadata": {},
   "outputs": [
    {
     "name": "stdout",
     "output_type": "stream",
     "text": [
      "97\n",
      " ---  97\n",
      "10\n",
      "98\n",
      " ---  97\n",
      "10\n",
      "99\n",
      " ---  97\n",
      "10\n",
      "100\n",
      " ---  97\n",
      "10\n",
      "101\n",
      " ---  97\n",
      "10\n",
      "102\n",
      " ---  97\n",
      "10\n",
      "103\n",
      " ---  97\n",
      "10\n",
      "104\n",
      " ---  97\n",
      "10\n",
      "105\n",
      " ---  97\n",
      "10\n",
      "106\n",
      " ---  97\n",
      "10\n",
      "107\n",
      " ---  97\n",
      "10\n",
      "108\n",
      " ---  97\n",
      "10\n",
      "109\n",
      " ---  97\n",
      "10\n",
      "110\n",
      " ---  97\n",
      "10\n",
      "111\n",
      " ---  97\n",
      "10\n",
      "112\n",
      " ---  97\n",
      "10\n",
      "113\n",
      " ---  97\n",
      "10\n",
      "114\n",
      " ---  97\n",
      "10\n",
      "115\n",
      " ---  97\n",
      "10\n",
      "116\n",
      " ---  97\n",
      "10\n",
      "117\n",
      " ---  97\n",
      "10\n",
      "118\n",
      " ---  97\n",
      "10\n",
      "119\n",
      " ---  97\n",
      "10\n",
      "120\n",
      " ---  97\n",
      "10\n",
      "121\n",
      " ---  97\n",
      "10\n",
      "122\n",
      " ---  97\n",
      "10\n"
     ]
    },
    {
     "data": {
      "text/plain": [
       "(60, 3)"
      ]
     },
     "execution_count": 25,
     "metadata": {},
     "output_type": "execute_result"
    }
   ],
   "source": [
    "# 806. Number of Lines To Write String\n",
    "widths = [10,10,10,10,10,10,10,10,10,10,10,10,10,10,10,10,10,10,10,10,10,10,10,10,10,10]\n",
    "s = \"abcdefghijklmnopqrstuvwxyz\"\n",
    "lines = 1\n",
    "width = 0\n",
    "for i in s:\n",
    "    print(ord(i))\n",
    "    print(\" --- \", ord('a'))\n",
    "    w = widths[ord(i) - ord('a')]\n",
    "    print(w)\n",
    "    width += w\n",
    "    if width > 100:\n",
    "        lines += 1\n",
    "        width = w\n",
    "width, lines"
   ]
  },
  {
   "cell_type": "code",
   "execution_count": null,
   "metadata": {},
   "outputs": [
    {
     "name": "stdout",
     "output_type": "stream",
     "text": [
      "27\n"
     ]
    }
   ],
   "source": [
    "ops = [\"5\",\"-2\",\"4\",\"C\",\"D\",\"9\",\"+\",\"+\"]\n",
    "special = [\"C\",\"D\",\"+\"]\n",
    "stack = []\n",
    "for i in ops:\n",
    "    if i not in special:\n",
    "        stack.append(int(i))\n",
    "    else:\n",
    "        if i == \"C\":\n",
    "            stack.pop()\n",
    "        elif i == \"D\":\n",
    "            stack.append(2*stack[-1])\n",
    "        elif i == \"+\":\n",
    "            stack.append(stack[-1] + stack[-2])\n",
    "print(sum(stack))"
   ]
  },
  {
   "cell_type": "code",
   "execution_count": null,
   "metadata": {},
   "outputs": [
    {
     "name": "stdout",
     "output_type": "stream",
     "text": [
      "1\n"
     ]
    }
   ],
   "source": [
    "a = [6,6,6,6]\n",
    "l = len(a)\n",
    "s = len(set(a))\n",
    "if (int(l/2) <= s):\n",
    "    print(int(l/2))\n",
    "else:\n",
    "    print(s)"
   ]
  },
  {
   "cell_type": "code",
   "execution_count": null,
   "metadata": {},
   "outputs": [
    {
     "data": {
      "text/plain": [
       "3"
      ]
     },
     "execution_count": 51,
     "metadata": {},
     "output_type": "execute_result"
    }
   ],
   "source": [
    "nums = [3,2,1]\n",
    "max = 0\n",
    "for i in range(len(nums)):\n",
    "    for j in range(i+1, len(nums)):\n",
    "        if nums[i] > nums[j]:\n",
    "            max += 1\n",
    "max\n"
   ]
  },
  {
   "cell_type": "code",
   "execution_count": null,
   "metadata": {},
   "outputs": [
    {
     "data": {
      "text/plain": [
       "(9, 7, 6)"
      ]
     },
     "execution_count": 55,
     "metadata": {},
     "output_type": "execute_result"
    }
   ],
   "source": [
    "nums  = [9,6,4,2,3,5,7,0,1]\n",
    "# sorted = [0,1,2,3,4,5,6,7,9]\n",
    "first = second = third = None\n",
    "\n",
    "for num in nums:\n",
    "    if num in (first, second, third):\n",
    "        continue\n",
    "    if first is None or num > first:\n",
    "        first, second, third = num, first, second\n",
    "    elif second is None or num > second:\n",
    "        second, third = num, second\n",
    "    elif third is None or num > third:\n",
    "        third = num\n",
    "first, second, third"
   ]
  },
  {
   "cell_type": "code",
   "execution_count": null,
   "metadata": {},
   "outputs": [
    {
     "name": "stdout",
     "output_type": "stream",
     "text": [
      "4\n"
     ]
    }
   ],
   "source": [
    "nums = [1,4,3,2]\n",
    "nums.sort()\n",
    "tot_sum = 0\n",
    "for i in range(0, len(nums), 2):\n",
    "    min1 = min(nums[i], nums[i+1])\n",
    "    tot_sum += min1\n",
    "print(tot_sum)\n",
    "\n"
   ]
  },
  {
   "cell_type": "code",
   "execution_count": null,
   "metadata": {},
   "outputs": [
    {
     "name": "stdout",
     "output_type": "stream",
     "text": [
      "{'h': 2, 'e': 3, 'l': 2, 'o': 3}\n",
      "{'a': 2, 'l': 2, 's': 2, 'k': 2}\n",
      "{'d': 2, 'a': 2}\n",
      "{'p': 3, 'e': 3, 'a': 2, 'c': 1}\n"
     ]
    }
   ],
   "source": [
    "words = [\"Hello\",\"Alaska\",\"Dad\",\"Peace\"]\n",
    "d = {\"q\":3, \"w\":3, \"e\":3, \"r\":3, \"t\":3, \"y\":3, \"u\":3, \"i\":3, \"o\":3, \"p\":3}\n",
    "d1 = {\"a\":2, \"s\":2, \"d\":2, \"f\":2, \"g\":2, \"h\":2, \"j\":2, \"k\":2, \"l\":2}\n",
    "d2 = {\"z\":1, \"x\":1, \"c\":1, \"v\":1, \"b\":1, \"n\":1, \"m\":1}\n",
    "keyboard_map = {**d, **d1, **d2}\n",
    "word_dicts = []\n",
    "for word in words:\n",
    "    word_dict = {char.lower(): keyboard_map[char.lower()] for char in word if char.lower() in keyboard_map}\n",
    "    print(word_dict)\n",
    "#     word_dicts.append(word_dict)\n",
    "# for word, mapping in zip(words, word_dicts):\n",
    "#     print(f\"{word}: {mapping}\")"
   ]
  },
  {
   "cell_type": "code",
   "execution_count": null,
   "metadata": {},
   "outputs": [
    {
     "data": {
      "text/plain": [
       "4"
      ]
     },
     "execution_count": 133,
     "metadata": {},
     "output_type": "execute_result"
    }
   ],
   "source": [
    "# 463. Island Perimeter\n",
    "grid = [[1,0]]\n",
    "perimeter = 0\n",
    "r = len(grid)\n",
    "c = len(grid[0])\n",
    "for i in range(r):\n",
    "    for j in range(c):\n",
    "        if grid[i][j] == 1:\n",
    "            perimeter += 4\n",
    "            if i>0 and grid[i-1][j] == 1:\n",
    "                perimeter -= 2\n",
    "            if j>0 and grid[i][j-1] == 1:\n",
    "                perimeter -= 2\n",
    "perimeter\n",
    "\n"
   ]
  },
  {
   "cell_type": "code",
   "execution_count": null,
   "metadata": {},
   "outputs": [
    {
     "name": "stdout",
     "output_type": "stream",
     "text": [
      "2\n",
      "2\n"
     ]
    }
   ],
   "source": [
    "# 2500. Delete Greatest Value in Each Row in Matrix\n",
    "grid = [[1, 2, 4], [3, 3, 1]]\n",
    "print(len(grid))\n",
    "for i in range(len(grid)):\n",
    "    greatest_val = max(grid[i])\n",
    "    grid[i].remove(greatest_val)\n",
    "\n",
    "G = [[1],[1]]\n",
    "print(len(G))\n",
    "\n",
    "# - In the first operation, we remove 4 from the first row and 3 from the second row (notice that, there are two cells with value 3 and we can remove any of them). We add 4 to the answer.\n",
    "# - In the second operation, we remove 2 from the first row and 3 from the second row. We add 3 to the answer.\n",
    "# - In the third operation, we remove 1 from the first row and 1 from the second row. We add 1 to the answer.\n",
    "# The final answer = 4 + 3 + 1 = 8.\n"
   ]
  },
  {
   "cell_type": "markdown",
   "metadata": {},
   "source": [
    "** Count occurrences of elements smaller than, equal to, and greater than the pivot. **\n",
    "\n",
    "Compute indices for placing them in a new array.\n",
    "Iterate through the array again, placing elements at their respective positions.\n",
    "Steps\n",
    "First pass: Count occurrences of elements (lCount, pCount).\n",
    "Compute starting positions of the three sections (left, mid, right).\n",
    "Second pass: Fill a new array with elements at their correct positions.\n",
    "Complexity\n",
    "Time Complexity: (O(n)) (Two passes over nums)\n",
    "Space Complexity: (O(n)) (New array used for output)"
   ]
  },
  {
   "cell_type": "code",
   "execution_count": null,
   "metadata": {},
   "outputs": [
    {
     "name": "stdout",
     "output_type": "stream",
     "text": [
      "[9, 5, 3, 10, 10, 12, 14]\n"
     ]
    }
   ],
   "source": [
    "nums = [9, 12, 5, 10, 14, 3, 10]\n",
    "pivot = 10\n",
    "lCount , pCount = 0,0\n",
    "for i in nums:\n",
    "    if i < pivot:\n",
    "        lCount += 1\n",
    "    elif i == pivot:\n",
    "        pCount += 1\n",
    "res = [0]*len(nums)\n",
    "left, mid, right = 0, lCount, lCount + pCount\n",
    "for num in nums:\n",
    "    if num < pivot:\n",
    "        res[left] = num\n",
    "        left += 1\n",
    "    elif num == pivot:\n",
    "        res[mid] = num\n",
    "        mid += 1\n",
    "    else:\n",
    "        res[right] = num\n",
    "        right += 1\n",
    "print(res)"
   ]
  },
  {
   "cell_type": "code",
   "execution_count": null,
   "metadata": {},
   "outputs": [
    {
     "name": "stdout",
     "output_type": "stream",
     "text": [
      "[0, 2, 3, 4]\n"
     ]
    }
   ],
   "source": [
    "a = [1,3,2,4]\n",
    "b = [3,1,2,4]\n",
    "c = [0]*len(a)\n",
    "c[0] = 0 if a[0] != b[0] else 1\n",
    "for i in range(1, len(a)):\n",
    "    ct = len(list(set(a[:i+1]).intersection(b[:i+1])))\n",
    "    c[i] = ct\n",
    "print(c)"
   ]
  },
  {
   "cell_type": "code",
   "execution_count": null,
   "metadata": {},
   "outputs": [
    {
     "data": {
      "text/plain": [
       "[3]"
      ]
     },
     "execution_count": 25,
     "metadata": {},
     "output_type": "execute_result"
    }
   ],
   "source": [
    "a = [2,3,4]\n",
    "b = [3,4,5]\n",
    "list(set(a[:2]).intersection(b[:2]))"
   ]
  },
  {
   "cell_type": "code",
   "execution_count": null,
   "metadata": {},
   "outputs": [
    {
     "name": "stdout",
     "output_type": "stream",
     "text": [
      "3 [0, 1, 2, 3, 4, 6]\n",
      "1 [5]\n"
     ]
    },
    {
     "data": {
      "text/plain": [
       "[[0, 1, 2], [3, 4, 6], [5]]"
      ]
     },
     "execution_count": 47,
     "metadata": {},
     "output_type": "execute_result"
    }
   ],
   "source": [
    "# 1282. Group the People Given the Group Size They Belong To\n",
    "# Input: groupSizes = [3,3,3,3,3,1,3]\n",
    "# Output: [[5],[0,1,2],[3,4,6]]\n",
    "groupSizes = [3,3,3,3,3,1,3]\n",
    "groups = {}\n",
    "for i, size in enumerate(groupSizes):\n",
    "    # print(i,size)\n",
    "    if size not in groups:\n",
    "        groups[size] = []\n",
    "    groups[size].append(i)\n",
    "res = []\n",
    "for size, members in groups.items():\n",
    "    for i in range(0, len(members), size):\n",
    "        res.append(members[i:i+size])\n",
    "res"
   ]
  },
  {
   "cell_type": "code",
   "execution_count": null,
   "metadata": {},
   "outputs": [
    {
     "name": "stdout",
     "output_type": "stream",
     "text": [
      "transpose: [['#', '#'], ['.', '#'], ['*', '*'], ['.', '.']]\n",
      "4\n",
      "['#', '#']\n",
      "['.', '#']\n",
      "['*', '*']\n",
      "['.', '.']\n"
     ]
    }
   ],
   "source": [
    "box = [[\"#\",\".\",\"*\",\".\"],\n",
    "              [\"#\",\"#\",\"*\",\".\"]]\n",
    "transpose = [list(row) for row in zip(*box)]\n",
    "print(f\"transpose: {transpose}\")\n",
    "print(len(transpose))\n",
    "\n",
    "for i in range(len(transpose)):\n",
    "    print(transpose[i])\n",
    "\n"
   ]
  },
  {
   "cell_type": "code",
   "execution_count": 104,
   "metadata": {},
   "outputs": [
    {
     "name": "stdout",
     "output_type": "stream",
     "text": [
      "2 4\n",
      "[['.', '#', '*', '.'], ['#', '#', '*', '.']]\n",
      "[['#', '.'], ['#', '#'], ['*', '*'], ['.', '.']]\n"
     ]
    }
   ],
   "source": [
    "# 1861. Rotating the Box\n",
    "box = [[\"#\",\".\",\"*\",\".\"],[\"#\",\"#\",\"*\",\".\"]]\n",
    "m = len(box)\n",
    "n = len(box[0])\n",
    "print(m,n)\n",
    "for row in box:\n",
    "    emp = len(row) - 1\n",
    "    for col in range(len(row)-1, -1, -1):\n",
    "        if row[col] == \"*\":\n",
    "            emp = col -1\n",
    "        elif row[col] == \"#\":\n",
    "            row[col], row[emp] = \".\", \"#\"\n",
    "            emp -= 1\n",
    "print(box)\n",
    "rotated = [[box[r][c] for r in range(m - 1, -1, -1)] for c in range(n)]\n",
    "print(rotated)\n",
    "\n",
    "p = [[1,2,3,4],[5,6,7,8]]\n",
    "\n",
    "\n"
   ]
  },
  {
   "cell_type": "code",
   "execution_count": 1,
   "metadata": {},
   "outputs": [
    {
     "name": "stdout",
     "output_type": "stream",
     "text": [
      "1 1\n",
      "2 1\n",
      "2 1\n",
      "3 2\n",
      "5\n"
     ]
    }
   ],
   "source": [
    "nums = [1,1,1,2,2,3]\n",
    "j = 2  # Pointer for placement of allowed elements\n",
    "for i in range(2, len(nums)):\n",
    "    print(nums[i], nums[j-2])\n",
    "    if nums[i] != nums[j - 2]:  # Ensure at most 2 occurrences\n",
    "        nums[j] = nums[i]\n",
    "        j += 1\n",
    "print(j)"
   ]
  },
  {
   "cell_type": "code",
   "execution_count": 3,
   "metadata": {},
   "outputs": [
    {
     "name": "stdout",
     "output_type": "stream",
     "text": [
      "true\n"
     ]
    }
   ],
   "source": [
    "s = \"A man, a plan, a canal: Panama\"\n",
    "s = ''.join(e for e in s if e.isalnum()).lower()\n",
    "s1 = s[::-1]\n",
    "if s == s1:\n",
    "    print(\"true\")"
   ]
  },
  {
   "cell_type": "code",
   "execution_count": 7,
   "metadata": {},
   "outputs": [
    {
     "name": "stdout",
     "output_type": "stream",
     "text": [
      "a\n",
      "a a\n",
      "h\n",
      "b\n",
      "b b\n",
      "g\n",
      "d\n",
      "c\n",
      "c c\n",
      "true\n"
     ]
    }
   ],
   "source": [
    "s = \"abc\"\n",
    "t = \"ahbgdc\"\n",
    "i = 0\n",
    "for j in range(len(t)):\n",
    "    print(t[j])\n",
    "    if i < len(s) and s[i] == t[j]:\n",
    "        print(s[i], t[j])\n",
    "        i += 1\n",
    "if i == len(s):\n",
    "    print(\"true\")\n",
    "else:\n",
    "    print(\"false\")\n"
   ]
  },
  {
   "cell_type": "code",
   "execution_count": 14,
   "metadata": {},
   "outputs": [
    {
     "name": "stdout",
     "output_type": "stream",
     "text": [
      "Counter({'a': 2, 'b': 1})\n",
      "Counter({'a': 1, 'b': 1})\n",
      "Counter({'b': 1, 'a': 0})\n"
     ]
    }
   ],
   "source": [
    "from collections import Counter\n",
    "ransomNote = \"aa\"\n",
    "magazine = \"aab\"\n",
    "magazine_count = Counter(magazine)  # Count frequency of each letter in magazine\n",
    "print(magazine_count)\n",
    "\n",
    "for char in ransomNote:\n",
    "    if magazine_count[char] > 0:\n",
    "        magazine_count[char] -= 1  # Use the letter\n",
    "        print(magazine_count)\n",
    "    # else:\n",
    "    #     return False  # Not enough occurrences of char in magazine\n",
    "\n",
    "# return True"
   ]
  },
  {
   "cell_type": "code",
   "execution_count": 22,
   "metadata": {},
   "outputs": [
    {
     "name": "stdout",
     "output_type": "stream",
     "text": [
      "('e', 'a')\n",
      "('g', 'd')\n",
      "('g', 'd')\n"
     ]
    }
   ],
   "source": [
    "s = \"egg\"\n",
    "t = \"add\"\n",
    "len(set(zip(s, t)))\n",
    "# # print zip value\n",
    "for i in zip(s,t):\n",
    "    print(i)"
   ]
  },
  {
   "cell_type": "code",
   "execution_count": 9,
   "metadata": {},
   "outputs": [
    {
     "name": "stdout",
     "output_type": "stream",
     "text": [
      "aca\n",
      "aba\n",
      " --  True\n"
     ]
    }
   ],
   "source": [
    "# valid palindrome 2\n",
    "s = \"abca\"\n",
    "left, right = 0, len(s) - 1\n",
    "while left <= right:\n",
    "    if s[left] != s[right]:\n",
    "        s1 = s[:left] + s[left+1:]\n",
    "        print(s1)\n",
    "        s2 = s[:right] + s[right+1:]\n",
    "        print(s2)\n",
    "        print(\" -- \",s1 == s1[::-1] or s2 == s2[::-1])\n",
    "    left += 1\n",
    "    right -= 1\n",
    "# print(\"true\")\n"
   ]
  },
  {
   "cell_type": "code",
   "execution_count": 19,
   "metadata": {},
   "outputs": [
    {
     "name": "stdout",
     "output_type": "stream",
     "text": [
      " --  0 3\n",
      " --  3 3\n",
      " --  3 3\n",
      " --  3 3\n",
      "false\n",
      " --  3 8\n",
      "true\n"
     ]
    }
   ],
   "source": [
    "# 55. Jump Game\n",
    "nums = [3,2,1,0,4]\n",
    "max_reach = 0\n",
    "for i, jump in enumerate(nums):\n",
    "    if i > max_reach:\n",
    "        print(\"false\")\n",
    "    print(\" -- \", max_reach, i+jump)\n",
    "    max_reach = max(max_reach, i + jump)\n",
    "print(\"true\")"
   ]
  },
  {
   "cell_type": "code",
   "execution_count": 27,
   "metadata": {},
   "outputs": [
    {
     "name": "stdout",
     "output_type": "stream",
     "text": [
      "['luffy', 'is', 'still', 'joyboy']\n",
      "6\n"
     ]
    }
   ],
   "source": [
    "s = \"luffy is still joyboy\"\n",
    "s = s.split()\n",
    "print(s)\n",
    "print(len(s[-1]))"
   ]
  },
  {
   "cell_type": "code",
   "execution_count": 28,
   "metadata": {},
   "outputs": [
    {
     "name": "stdout",
     "output_type": "stream",
     "text": [
      "hello\n"
     ]
    }
   ],
   "source": [
    "print(\"hello\")"
   ]
  },
  {
   "cell_type": "code",
   "execution_count": null,
   "metadata": {},
   "outputs": [],
   "source": []
  }
 ],
 "metadata": {
  "kernelspec": {
   "display_name": "Python 3",
   "language": "python",
   "name": "python3"
  },
  "language_info": {
   "codemirror_mode": {
    "name": "ipython",
    "version": 3
   },
   "file_extension": ".py",
   "mimetype": "text/x-python",
   "name": "python",
   "nbconvert_exporter": "python",
   "pygments_lexer": "ipython3",
   "version": "3.11.1"
  }
 },
 "nbformat": 4,
 "nbformat_minor": 2
}
